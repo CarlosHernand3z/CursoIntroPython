{
 "cells": [
  {
   "cell_type": "markdown",
   "metadata": {},
   "source": [
    "# Sistema de advertencia si un asteroide se acerca a la tierra demasiado rápido."
   ]
  },
  {
   "cell_type": "code",
   "execution_count": 1,
   "metadata": {},
   "outputs": [
    {
     "name": "stdout",
     "output_type": "stream",
     "text": [
      "Advertencia, se ha detectado un asteroide acercandose a la tierra a una velocidad de: 49km/s\n"
     ]
    }
   ],
   "source": [
    "asteroide = 49\n",
    "límite_velocidad = 25\n",
    "\n",
    "if asteroide > límite_velocidad:\n",
    "    print('Advertencia, se ha detectado un asteroide acercandose a la tierra a una velocidad de: ' + str(asteroide) + 'km/s')\n",
    "elif asteroide == límite_velocidad:\n",
    "    print ('Advertencia, se ha detectado un asteroide acercandose a la tierra a una velocidad de: ' + str(límite_velocidad) + ' km/s')\n",
    "elif asteroide < límite_velocidad:\n",
    "    print ('No se ha detectado ningún asteroide fuera del limite establecido') \n"
   ]
  },
  {
   "cell_type": "markdown",
   "metadata": {},
   "source": [
    "# Sistema de detección de asteroides"
   ]
  },
  {
   "cell_type": "code",
   "execution_count": 9,
   "metadata": {},
   "outputs": [
    {
     "name": "stdout",
     "output_type": "stream",
     "text": [
      "No se han detectado asteroides que se puedan ver en el cielo\n"
     ]
    }
   ],
   "source": [
    "límite_velocidad = 20\n",
    "asteroide = 19\n",
    "\n",
    "if asteroide >= límite_velocidad:\n",
    "    print('Asteroide con velocidad de ' + str(asteroide) + ' km/s ha entrado a la atmosfera, mira el cielo')\n",
    "elif asteroide < límite_velocidad:\n",
    "    print('No se han detectado asteroides que se puedan ver en el cielo')"
   ]
  },
  {
   "cell_type": "markdown",
   "metadata": {},
   "source": [
    "# Sistema de representación de peligro de asteroides entrando a la atmosfera"
   ]
  },
  {
   "cell_type": "code",
   "execution_count": 25,
   "metadata": {},
   "outputs": [
    {
     "name": "stdout",
     "output_type": "stream",
     "text": [
      "Mira al cielo un rayo de luz ha entrado a la atmosfera\n"
     ]
    }
   ],
   "source": [
    "dimensión_asteroide = 49\n",
    "velocidad_asteroide = 25\n",
    "\n",
    "if dimensión_asteroide > 25 and velocidad_asteroide > 25:\n",
    "    print('¡Alerta, asteroide peligroso ha entrado a la atmosfera') \n",
    "elif velocidad_asteroide >= 20:\n",
    "    print('Mira al cielo un rayo de luz ha entrado a la atmosfera') \n",
    "elif dimensión_asteroide < 20 or velocidad_asteroide < 20:\n",
    "    print('No se han detectado asteroides potencialmente peligrosos')\n",
    "\n"
   ]
  }
 ],
 "metadata": {
  "interpreter": {
   "hash": "31b6730f3df95050c1565e06e8aa767813485ae7943e91306e19ccd0b9887efe"
  },
  "kernelspec": {
   "display_name": "Python 3.8.10 64-bit",
   "language": "python",
   "name": "python3"
  },
  "language_info": {
   "codemirror_mode": {
    "name": "ipython",
    "version": 3
   },
   "file_extension": ".py",
   "mimetype": "text/x-python",
   "name": "python",
   "nbconvert_exporter": "python",
   "pygments_lexer": "ipython3",
   "version": "3.8.10"
  },
  "orig_nbformat": 4
 },
 "nbformat": 4,
 "nbformat_minor": 2
}
