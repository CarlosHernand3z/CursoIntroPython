{
 "cells": [
  {
   "cell_type": "markdown",
   "metadata": {},
   "source": [
    "# Ejercicio 1: Transformar cadenas"
   ]
  },
  {
   "cell_type": "code",
   "execution_count": 62,
   "metadata": {},
   "outputs": [],
   "source": [
    "text = \"\"\"Interesting facts about the Moon. The Moon is Earth's only satellite. There are several interesting facts about the Moon and how it affects life here on Earth. \n",
    "On average, the Moon moves 4cm away from the Earth every year. This yearly drift is not significant enough to cause immediate effects on Earth. The highest daylight temperature of the Moon is 127 C.\"\"\""
   ]
  },
  {
   "cell_type": "code",
   "execution_count": 63,
   "metadata": {},
   "outputs": [
    {
     "data": {
      "text/plain": [
       "['Interesting facts about the Moon',\n",
       " \" The Moon is Earth's only satellite\",\n",
       " ' There are several interesting facts about the Moon and how it affects life here on Earth',\n",
       " ' \\nOn average, the Moon moves 4cm away from the Earth every year',\n",
       " ' This yearly drift is not significant enough to cause immediate effects on Earth',\n",
       " ' The highest daylight temperature of the Moon is 127 C',\n",
       " '']"
      ]
     },
     "execution_count": 63,
     "metadata": {},
     "output_type": "execute_result"
    }
   ],
   "source": [
    "division_texto = text.split('.')\n",
    "division_texto"
   ]
  },
  {
   "cell_type": "code",
   "execution_count": 64,
   "metadata": {},
   "outputs": [],
   "source": [
    "palabras_clave = ('average', 'temperature', 'distance')"
   ]
  },
  {
   "cell_type": "code",
   "execution_count": 65,
   "metadata": {},
   "outputs": [
    {
     "name": "stdout",
     "output_type": "stream",
     "text": [
      "Interesting facts about the Moon\n",
      " The Moon is Earth's only satellite\n",
      " There are several interesting facts about the Moon and how it affects life here on Earth\n",
      " \n",
      "On average, the Moon moves 4cm away from the Earth every year\n",
      " This yearly drift is not significant enough to cause immediate effects on Earth\n",
      " The highest daylight temperature of the Moon is 127 C\n",
      "\n"
     ]
    }
   ],
   "source": [
    "for palabras_clave in division_texto:\n",
    "    print(palabras_clave)\n"
   ]
  },
  {
   "cell_type": "markdown",
   "metadata": {},
   "source": [
    "# Segunda manera de encontrar las palabras clave"
   ]
  },
  {
   "cell_type": "code",
   "execution_count": 66,
   "metadata": {},
   "outputs": [
    {
     "name": "stdout",
     "output_type": "stream",
     "text": [
      "Interesting facts about the Moon\n",
      " The Moon is Earth's only satellite\n",
      " There are several interesting facts about the Moon and how it affects life here on Earth\n",
      " \n",
      "On average, the Moon moves 4cm away from the Earth every year\n",
      " This yearly drift is not significant enough to cause immediate effects on Earth\n",
      " The highest daylight temperature of the Moon is 127 C\n",
      "\n"
     ]
    }
   ],
   "source": [
    "for palabras_clave in division_texto:\n",
    "    if palabras_clave in division_texto:\n",
    "        print(palabras_clave)\n",
    "\n",
    "# Creo que es la forma más correcta"
   ]
  },
  {
   "cell_type": "code",
   "execution_count": 67,
   "metadata": {},
   "outputs": [
    {
     "data": {
      "text/plain": [
       "\"Interesting facts about the Moon. The Moon is Earth's only satellite. There are several interesting facts about the Moon and how it affects life here on Earth. \\nOn average, the Moon moves 4cm away from the Earth every year. This yearly drift is not significant enough to cause immediate effects on Earth. The highest daylight temperature of the Moon is 127 Celsius.\""
      ]
     },
     "execution_count": 67,
     "metadata": {},
     "output_type": "execute_result"
    }
   ],
   "source": [
    "\"\"\"Interesting facts about the Moon. The Moon is Earth's only satellite. There are several interesting facts about the Moon and how it affects life here on Earth. \n",
    "On average, the Moon moves 4cm away from the Earth every year. This yearly drift is not significant enough to cause immediate effects on Earth. The highest daylight temperature of the Moon is 127 C.\"\"\".replace('C', 'Celsius')"
   ]
  },
  {
   "cell_type": "markdown",
   "metadata": {},
   "source": [
    "# Ejercicio 2: Formateando Cadenas"
   ]
  },
  {
   "cell_type": "code",
   "execution_count": 68,
   "metadata": {},
   "outputs": [
    {
     "name": "stdout",
     "output_type": "stream",
     "text": [
      "Gravity Facts about Ganymede\n",
      "\n",
      "Planet Name: Mars\n",
      "Gravity on Ganymede: 1.4300000000000002 m/s2\n"
     ]
    }
   ],
   "source": [
    "prueba = 'Gravity Facts about Ganymede\\n\\nPlanet Name: Mars\\nGravity on Ganymede: 1.4300000000000002 m/s2'\n",
    "print(prueba) \n",
    "\n",
    "# Nota: se que no es así es el ejercicio pero podría ser así, el chiste es mostrar datos en la tabla :P"
   ]
  },
  {
   "cell_type": "code",
   "execution_count": 69,
   "metadata": {},
   "outputs": [],
   "source": [
    "# Datos con los que vas a trabajar\n",
    "name = \"Moon\"\n",
    "gravity = 0.00162 # in kms\n",
    "planet = \"Earth\""
   ]
  },
  {
   "cell_type": "code",
   "execution_count": 70,
   "metadata": {},
   "outputs": [
    {
     "name": "stdout",
     "output_type": "stream",
     "text": [
      "La Gravedad En Moon Y Earth\n"
     ]
    }
   ],
   "source": [
    "subject = f'La gravedad en {name} y {planet}'\n",
    "print(subject.title())"
   ]
  },
  {
   "cell_type": "code",
   "execution_count": 80,
   "metadata": {},
   "outputs": [
    {
     "name": "stdout",
     "output_type": "stream",
     "text": [
      "name = \"Moon\"\n",
      "gravity = 1.6199999999999999 # in meters\n",
      "planet = \"Earth\" \n"
     ]
    }
   ],
   "source": [
    "info = f\"\"\"name = \"{name}\"\n",
    "gravity = {0.00162 * 1000} # in kms\n",
    "planet = \"{planet}\" \"\"\".replace('kms', 'meters')\n",
    "print(info)\n",
    "#Mi forma sin el \"-\""
   ]
  },
  {
   "cell_type": "code",
   "execution_count": 81,
   "metadata": {},
   "outputs": [
    {
     "name": "stdout",
     "output_type": "stream",
     "text": [
      "--------------------------------------------------------------------------------\n",
      "name = \"Moon\" \n",
      "gravity = 1.6199999999999999 # in meters\n",
      "planet = \"Earth\" \n"
     ]
    }
   ],
   "source": [
    "info = f\"\"\"{'-'*80}\n",
    "name = \"{name}\" \n",
    "gravity = {gravity * 1000} # in kms\n",
    "planet = \"{planet}\" \"\"\".replace('kms', 'meters')\n",
    "print(info) \n",
    "\n",
    "# Forma oficial del ejercicio y correcto (Recuerda si usas los guiones no usar \"print\")"
   ]
  },
  {
   "cell_type": "code",
   "execution_count": 82,
   "metadata": {},
   "outputs": [
    {
     "name": "stdout",
     "output_type": "stream",
     "text": [
      "La Gravedad En Moon Y Earth\n",
      "--------------------------------------------------------------------------------\n",
      "name = \"Moon\" \n",
      "gravity = 1.6199999999999999 # in meters\n",
      "planet = \"Earth\" \n"
     ]
    }
   ],
   "source": [
    "resultado = f\"\"\"{subject.title()}\n",
    "{info}\"\"\"\n",
    "print(resultado)"
   ]
  },
  {
   "cell_type": "code",
   "execution_count": 105,
   "metadata": {},
   "outputs": [
    {
     "name": "stdout",
     "output_type": "stream",
     "text": [
      "La Gravedad En Moon Y Earth\n",
      "--------------------------------------------------------------------------------\n",
      "name = \"Moon\" \n",
      "gravity = 1.6199999999999999 # in meters\n",
      "planet = \"Earth\" \n"
     ]
    }
   ],
   "source": [
    "# Datos con los que vas a trabajar\n",
    "planeta = 'Marte '\n",
    "gravedad  = 0.00143\n",
    "nombre = 'Ganímedes'\n",
    "print(resultado)"
   ]
  },
  {
   "cell_type": "code",
   "execution_count": 108,
   "metadata": {},
   "outputs": [
    {
     "name": "stdout",
     "output_type": "stream",
     "text": [
      "\n",
      "La Gravedad En Marte  Y Ganímedes\n",
      "--------------------------------------------------------------------------------\n",
      "name = \"Ganímedes\" \n",
      "gravity = 0.00143 # in meters\n",
      "planet = \"Marte \" \n"
     ]
    }
   ],
   "source": [
    "nuevo_resultado2 = \"\"\"\n",
    "La Gravedad En {planeta} Y {nombre}\n",
    "--------------------------------------------------------------------------------\n",
    "name = \"{nombre}\" \n",
    "gravity = {gravedad} # in meters\n",
    "planet = \"{planeta}\" \"\"\"\n",
    "print(nuevo_resultado2.format(nombre=nombre, planeta=planeta, gravedad=gravedad))"
   ]
  },
  {
   "cell_type": "code",
   "execution_count": 110,
   "metadata": {},
   "outputs": [
    {
     "name": "stdout",
     "output_type": "stream",
     "text": [
      "\n",
      "La Gravedad En Marte  Y Ganímedes\n",
      "--------------------------------------------------------------------------------\n",
      "name = \"Ganímedes\" \n",
      "gravity = 1.4300000000000002 # in meters\n",
      "planet = \"Marte \" \n"
     ]
    }
   ],
   "source": [
    "print(nuevo_resultado2.format(nombre=nombre, planeta=planeta, gravedad=gravedad*1000))"
   ]
  }
 ],
 "metadata": {
  "interpreter": {
   "hash": "31b6730f3df95050c1565e06e8aa767813485ae7943e91306e19ccd0b9887efe"
  },
  "kernelspec": {
   "display_name": "Python 3.8.10 64-bit",
   "language": "python",
   "name": "python3"
  },
  "language_info": {
   "codemirror_mode": {
    "name": "ipython",
    "version": 3
   },
   "file_extension": ".py",
   "mimetype": "text/x-python",
   "name": "python",
   "nbconvert_exporter": "python",
   "pygments_lexer": "ipython3",
   "version": "3.8.10"
  },
  "orig_nbformat": 4
 },
 "nbformat": 4,
 "nbformat_minor": 2
}
