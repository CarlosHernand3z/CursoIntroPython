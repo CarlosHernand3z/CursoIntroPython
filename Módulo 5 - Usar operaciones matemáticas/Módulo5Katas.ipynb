{
 "cells": [
  {
   "cell_type": "code",
   "execution_count": 108,
   "metadata": {},
   "outputs": [],
   "source": [
    "Tierra = (149597870) # km\n",
    "Júpiter = (778547200) # km "
   ]
  },
  {
   "cell_type": "code",
   "execution_count": 109,
   "metadata": {},
   "outputs": [
    {
     "name": "stdout",
     "output_type": "stream",
     "text": [
      "628949330\n",
      "390577534\n"
     ]
    }
   ],
   "source": [
    "distance_km = Tierra - Júpiter\n",
    "print(abs(distance_km))\n",
    "\n",
    "distance_mi = distance_km * 0.621\n",
    "print(abs(round(distance_mi)))"
   ]
  },
  {
   "cell_type": "markdown",
   "metadata": {},
   "source": [
    "# Ejercicio 2: convierte cadenas en números y usa valores absolutos"
   ]
  },
  {
   "cell_type": "code",
   "execution_count": 117,
   "metadata": {},
   "outputs": [],
   "source": [
    "tierra = input('149597870')\n",
    "jupiter = input('778547200') \n",
    "Mercurio = input('57900000')\n",
    "Urano = input('2872500000') \n",
    "\n"
   ]
  },
  {
   "cell_type": "code",
   "execution_count": 118,
   "metadata": {},
   "outputs": [
    {
     "name": "stdout",
     "output_type": "stream",
     "text": [
      "149597870\n",
      "778547200\n",
      "57900000\n",
      "2872500000\n"
     ]
    }
   ],
   "source": [
    "tierra = int(tierra)\n",
    "print(tierra)\n",
    "\n",
    "jupiter = int(jupiter)\n",
    "print(jupiter)\n",
    "\n",
    "Mercurio = int(Mercurio)\n",
    "print(Mercurio)\n",
    "\n",
    "Urano = int(Urano)\n",
    "print(Urano)"
   ]
  },
  {
   "cell_type": "code",
   "execution_count": 119,
   "metadata": {},
   "outputs": [
    {
     "name": "stdout",
     "output_type": "stream",
     "text": [
      "628949330\n",
      "390577534\n"
     ]
    }
   ],
   "source": [
    "distance_kilometros = (tierra - jupiter) \n",
    "print(abs(distance_kilometros)) \n",
    "\n",
    "distance_millas = distance_kilometros * 0.621\n",
    "print(abs(round(distance_millas)))\n"
   ]
  },
  {
   "cell_type": "code",
   "execution_count": 122,
   "metadata": {},
   "outputs": [
    {
     "name": "stdout",
     "output_type": "stream",
     "text": [
      "2814600000\n",
      "1747866600\n"
     ]
    }
   ],
   "source": [
    "distance_kilometrosMU = (Mercurio - Urano)\n",
    "print(abs(distance_kilometrosMU))\n",
    "\n",
    "distance_millasMU = distance_kilometrosMU * 0.621\n",
    "print(abs(round(distance_millasMU)))\n",
    "\n",
    "#Yeii si sirve!"
   ]
  }
 ],
 "metadata": {
  "interpreter": {
   "hash": "31b6730f3df95050c1565e06e8aa767813485ae7943e91306e19ccd0b9887efe"
  },
  "kernelspec": {
   "display_name": "Python 3.8.10 64-bit",
   "language": "python",
   "name": "python3"
  },
  "language_info": {
   "codemirror_mode": {
    "name": "ipython",
    "version": 3
   },
   "file_extension": ".py",
   "mimetype": "text/x-python",
   "name": "python",
   "nbconvert_exporter": "python",
   "pygments_lexer": "ipython3",
   "version": "3.8.10"
  },
  "orig_nbformat": 4
 },
 "nbformat": 4,
 "nbformat_minor": 2
}
